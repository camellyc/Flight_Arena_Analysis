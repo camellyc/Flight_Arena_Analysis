{
 "cells": [
  {
   "cell_type": "code",
   "execution_count": 2,
   "metadata": {},
   "outputs": [
    {
     "name": "stdout",
     "output_type": "stream",
     "text": [
      "Loaded DNp25_ChR_female_sp2_save_2024-06-06-161827-0000.tif with shape (999, 1024, 1280)\n"
     ]
    },
    {
     "ename": "KeyboardInterrupt",
     "evalue": "",
     "output_type": "error",
     "traceback": [
      "\u001b[0;31m---------------------------------------------------------------------------\u001b[0m",
      "\u001b[0;31mKeyboardInterrupt\u001b[0m                         Traceback (most recent call last)",
      "Cell \u001b[0;32mIn[2], line 57\u001b[0m\n\u001b[1;32m     55\u001b[0m \u001b[38;5;66;03m# Example usage:\u001b[39;00m\n\u001b[1;32m     56\u001b[0m directory \u001b[38;5;241m=\u001b[39m \u001b[38;5;124m'\u001b[39m\u001b[38;5;124m/Users/camellyc/Library/Mobile Documents/com~apple~CloudDocs/学习/Lab/Tuthill Lab/Spiracle/spiracle images and movies/to_process\u001b[39m\u001b[38;5;124m'\u001b[39m\n\u001b[0;32m---> 57\u001b[0m processed_images \u001b[38;5;241m=\u001b[39m \u001b[43mprocess_images\u001b[49m\u001b[43m(\u001b[49m\u001b[43mdirectory\u001b[49m\u001b[43m)\u001b[49m\n\u001b[1;32m     58\u001b[0m save_images(processed_images, \u001b[38;5;124m'\u001b[39m\u001b[38;5;124m/Users/camellyc/Library/Mobile Documents/com~apple~CloudDocs/学习/Lab/Tuthill Lab/Spiracle/spiracle images and movies/processed\u001b[39m\u001b[38;5;124m'\u001b[39m)\n",
      "Cell \u001b[0;32mIn[2], line 52\u001b[0m, in \u001b[0;36mprocess_images\u001b[0;34m(directory)\u001b[0m\n\u001b[1;32m     50\u001b[0m \u001b[38;5;28;01mdef\u001b[39;00m \u001b[38;5;21mprocess_images\u001b[39m(directory):\n\u001b[1;32m     51\u001b[0m     images \u001b[38;5;241m=\u001b[39m load_images(directory)\n\u001b[0;32m---> 52\u001b[0m     registered_images \u001b[38;5;241m=\u001b[39m \u001b[43mregister_images\u001b[49m\u001b[43m(\u001b[49m\u001b[43mimages\u001b[49m\u001b[43m)\u001b[49m\n\u001b[1;32m     53\u001b[0m     \u001b[38;5;28;01mreturn\u001b[39;00m registered_images\n",
      "Cell \u001b[0;32mIn[2], line 40\u001b[0m, in \u001b[0;36mregister_images\u001b[0;34m(images)\u001b[0m\n\u001b[1;32m     38\u001b[0m         shift_estimation, _, _ \u001b[38;5;241m=\u001b[39m phase_cross_correlation(reference_image, img)\n\u001b[1;32m     39\u001b[0m         registered_slice \u001b[38;5;241m=\u001b[39m shift(img, shift_estimation, mode\u001b[38;5;241m=\u001b[39m\u001b[38;5;124m'\u001b[39m\u001b[38;5;124mnearest\u001b[39m\u001b[38;5;124m'\u001b[39m)\n\u001b[0;32m---> 40\u001b[0m         \u001b[43mregistered_stack\u001b[49m\u001b[38;5;241;43m.\u001b[39;49m\u001b[43mappend\u001b[49m\u001b[43m(\u001b[49m\u001b[43mregistered_slice\u001b[49m\u001b[43m)\u001b[49m\n\u001b[1;32m     41\u001b[0m     registered_images\u001b[38;5;241m.\u001b[39mappend(np\u001b[38;5;241m.\u001b[39mstack(registered_stack))\n\u001b[1;32m     42\u001b[0m \u001b[38;5;28;01mreturn\u001b[39;00m registered_images\n",
      "\u001b[0;31mKeyboardInterrupt\u001b[0m: "
     ]
    }
   ],
   "source": [
    "import imageio\n",
    "import numpy as np\n",
    "from skimage.registration import phase_cross_correlation\n",
    "from scipy.ndimage import shift\n",
    "import tifffile as tiff\n",
    "import os\n",
    "import matplotlib.pyplot as plt\n",
    "\n",
    "def load_images(directory):\n",
    "    images = []\n",
    "    for filename in sorted(os.listdir(directory)):\n",
    "        if filename.endswith('.tif'):\n",
    "            try:\n",
    "                img = imageio.volread(os.path.join(directory, filename))\n",
    "                print(f\"Loaded {filename} with shape {img.shape}\")\n",
    "                images.append(img)\n",
    "            except Exception as e:\n",
    "                print(f\"Failed to load {filename}: {e}\")\n",
    "    return images\n",
    "\n",
    "def plot_histogram(image, title):\n",
    "    plt.figure()\n",
    "    if image.ndim == 3:\n",
    "        image = image[0]  # Histogram of first slice\n",
    "    histogram, bin_edges = np.histogram(image, bins=256, range=(0, 255))\n",
    "    plt.plot(bin_edges[:-1], histogram, color='black')\n",
    "    plt.title(title)\n",
    "    plt.xlabel('Intensity Value')\n",
    "    plt.ylabel('Pixel Count')\n",
    "    plt.show()\n",
    "\n",
    "def register_images(images):\n",
    "    reference_image = images[0][0]  # First image of the first stack as the reference\n",
    "    registered_images = []\n",
    "    for stack in images:\n",
    "        registered_stack = []\n",
    "        for img in stack:\n",
    "            shift_estimation, _, _ = phase_cross_correlation(reference_image, img)\n",
    "            registered_slice = shift(img, shift_estimation, mode='nearest')\n",
    "            registered_stack.append(registered_slice)\n",
    "        registered_images.append(np.stack(registered_stack))\n",
    "    return registered_images\n",
    "\n",
    "def save_images(images, directory):\n",
    "    for idx, stack in enumerate(images):\n",
    "        output_path = os.path.join(directory, f'processed_stack_{idx}.tif')\n",
    "        tiff.imwrite(output_path, stack)\n",
    "        print(f\"Saved processed stack to {output_path}\")\n",
    "\n",
    "def process_images(directory):\n",
    "    images = load_images(directory)\n",
    "    registered_images = register_images(images)\n",
    "    return registered_images\n",
    "\n",
    "# Example usage:\n",
    "directory = '/Users/camellyc/Library/Mobile Documents/com~apple~CloudDocs/学习/Lab/Tuthill Lab/Spiracle/spiracle images and movies/to_process'\n",
    "processed_images = process_images(directory)\n",
    "save_images(processed_images, '/Users/camellyc/Library/Mobile Documents/com~apple~CloudDocs/学习/Lab/Tuthill Lab/Spiracle/spiracle images and movies/processed')\n"
   ]
  }
 ],
 "metadata": {
  "kernelspec": {
   "display_name": "Python 3",
   "language": "python",
   "name": "python3"
  },
  "language_info": {
   "codemirror_mode": {
    "name": "ipython",
    "version": 3
   },
   "file_extension": ".py",
   "mimetype": "text/x-python",
   "name": "python",
   "nbconvert_exporter": "python",
   "pygments_lexer": "ipython3",
   "version": "3.11.5"
  }
 },
 "nbformat": 4,
 "nbformat_minor": 2
}
