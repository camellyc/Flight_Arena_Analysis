{
 "cells": [
  {
   "cell_type": "code",
   "execution_count": 3,
   "metadata": {},
   "outputs": [
    {
     "name": "stderr",
     "output_type": "stream",
     "text": [
      "Matplotlib is building the font cache; this may take a moment.\n"
     ]
    }
   ],
   "source": [
    "import numpy as np\n",
    "import matplotlib.pyplot as plt\n",
    "import pandas as pd"
   ]
  },
  {
   "cell_type": "code",
   "execution_count": null,
   "metadata": {},
   "outputs": [
    {
     "name": "stdout",
     "output_type": "stream",
     "text": [
      "Found 11 .mat files to process\n"
     ]
    },
    {
     "name": "stderr",
     "output_type": "stream",
     "text": [
      "Processing files:   0%|          | 0/11 [00:00<?, ?it/s]"
     ]
    },
    {
     "name": "stdout",
     "output_type": "stream",
     "text": [
      "\n",
      "Processing file: /Users/camellyc/Library/CloudStorage/GoogleDrive-yichen@tuthill.casa/.shortcut-targets-by-id/10pxdlRXtzFB-abwDGi0jOGOFFNm3pmFK/Tuthill Lab Shared/Yichen/Spiracle/Spiracle Imaging/EMG_Analysis/241121_spMN2_ChR_EMG_Fly2/spMN2_ChR_EMG_VT029591_R20F02_4d_F_Fly2_Trial5_3000ms_2024_1121_155427.mat\n",
      "Loaded data shape: (9, 3596000)\n",
      "Number of blocks detected: 6\n",
      "Lengths of detected blocks (in seconds): [3.0, 2.99785, 2.99785, 2.99785, 2.99785, 2.99785]\n"
     ]
    },
    {
     "name": "stderr",
     "output_type": "stream",
     "text": [
      "Calculating Adaptive Threshold: 100%|██████████| 3596000/3596000 [02:02<00:00, 29294.43it/s]\n",
      "Detecting Spikes: 100%|██████████| 3595998/3595998 [00:00<00:00, 5148530.90it/s]\n"
     ]
    },
    {
     "name": "stdout",
     "output_type": "stream",
     "text": [
      "Detected 6 stimulus onsets at times: [ 29.99995  45.0021   89.9521  104.9521  134.8521  164.8521 ]\n",
      "Loaded stimulus orders: [[np.uint16(0), np.uint16(3000), np.uint16(3000)], [np.uint16(0), np.uint16(3000), np.uint16(3000)], [np.uint16(3000), np.uint16(0), np.uint16(3000)]]\n",
      "Matched 9 total stimuli (including 0ms)\n",
      "\n",
      "Processing bout 1:\n",
      "Onset: 15.00s\n",
      "Duration: 0ms\n",
      "Saved bout 1 to spMN2_ChR_EMG_VT029591_R20F02_4d_F_Fly2_Trial5_3000ms_2024_1121_155427_bout1_stim0ms.csv\n",
      "\n",
      "Processing bout 2:\n",
      "Onset: 30.00s\n",
      "Duration: 3000ms\n",
      "Saved bout 2 to spMN2_ChR_EMG_VT029591_R20F02_4d_F_Fly2_Trial5_3000ms_2024_1121_155427_bout2_stim3000ms.csv\n",
      "\n",
      "Processing bout 3:\n",
      "Onset: 45.00s\n",
      "Duration: 3000ms\n",
      "Saved bout 3 to spMN2_ChR_EMG_VT029591_R20F02_4d_F_Fly2_Trial5_3000ms_2024_1121_155427_bout3_stim3000ms.csv\n",
      "\n",
      "Processing bout 4:\n",
      "Onset: 75.00s\n",
      "Duration: 0ms\n",
      "Saved bout 4 to spMN2_ChR_EMG_VT029591_R20F02_4d_F_Fly2_Trial5_3000ms_2024_1121_155427_bout4_stim0ms.csv\n",
      "\n",
      "Processing bout 5:\n",
      "Onset: 89.95s\n",
      "Duration: 3000ms\n",
      "Saved bout 5 to spMN2_ChR_EMG_VT029591_R20F02_4d_F_Fly2_Trial5_3000ms_2024_1121_155427_bout5_stim3000ms.csv\n",
      "\n",
      "Processing bout 6:\n",
      "Onset: 104.95s\n",
      "Duration: 3000ms\n",
      "Saved bout 6 to spMN2_ChR_EMG_VT029591_R20F02_4d_F_Fly2_Trial5_3000ms_2024_1121_155427_bout6_stim3000ms.csv\n",
      "\n",
      "Processing bout 7:\n",
      "Onset: 134.85s\n",
      "Duration: 3000ms\n",
      "Saved bout 7 to spMN2_ChR_EMG_VT029591_R20F02_4d_F_Fly2_Trial5_3000ms_2024_1121_155427_bout7_stim3000ms.csv\n",
      "\n",
      "Processing bout 8:\n",
      "Onset: 150.00s\n",
      "Duration: 0ms\n",
      "Saved bout 8 to spMN2_ChR_EMG_VT029591_R20F02_4d_F_Fly2_Trial5_3000ms_2024_1121_155427_bout8_stim0ms.csv\n",
      "\n",
      "Processing bout 9:\n",
      "Onset: 164.85s\n",
      "Duration: 3000ms\n"
     ]
    },
    {
     "name": "stderr",
     "output_type": "stream",
     "text": [
      "Processing files:   9%|▉         | 1/11 [02:25<24:18, 145.85s/it]"
     ]
    },
    {
     "name": "stdout",
     "output_type": "stream",
     "text": [
      "Saved bout 9 to spMN2_ChR_EMG_VT029591_R20F02_4d_F_Fly2_Trial5_3000ms_2024_1121_155427_bout9_stim3000ms.csv\n",
      "\n",
      "Processed spMN2_ChR_EMG_VT029591_R20F02_4d_F_Fly2_Trial5_3000ms_2024_1121_155427.mat:\n",
      "Saved 9 bout files\n",
      "\n",
      "Processing file: /Users/camellyc/Library/CloudStorage/GoogleDrive-yichen@tuthill.casa/.shortcut-targets-by-id/10pxdlRXtzFB-abwDGi0jOGOFFNm3pmFK/Tuthill Lab Shared/Yichen/Spiracle/Spiracle Imaging/EMG_Analysis/241121_spMN2_ChR_EMG_Fly2/spMN2_ChR_EMG_VT029591_R20F02_4d_F_Fly2_Trial10_10000ms_066_2024_1121_161453.mat\n",
      "Loaded data shape: (9, 3596000)\n",
      "Number of blocks detected: 3\n",
      "Lengths of detected blocks (in seconds): [10.0, 9.99785, 9.99785]\n"
     ]
    },
    {
     "name": "stderr",
     "output_type": "stream",
     "text": [
      "Calculating Adaptive Threshold: 100%|██████████| 3596000/3596000 [02:05<00:00, 28731.85it/s]\n",
      "Detecting Spikes: 100%|██████████| 3595998/3595998 [00:00<00:00, 5100693.14it/s]\n"
     ]
    },
    {
     "name": "stdout",
     "output_type": "stream",
     "text": [
      "Detected 3 stimulus onsets at times: [ 29.99995  89.9521  149.9021 ]\n",
      "Loaded stimulus orders: [[np.uint16(10000)], [np.uint16(10000)], [np.uint16(10000)]]\n",
      "Matched 3 total stimuli (including 0ms)\n",
      "\n",
      "Processing bout 1:\n",
      "Onset: 30.00s\n",
      "Duration: 10000ms\n",
      "Saved bout 1 to spMN2_ChR_EMG_VT029591_R20F02_4d_F_Fly2_Trial10_10000ms_066_2024_1121_161453_bout1_stim10000ms.csv\n",
      "\n",
      "Processing bout 2:\n",
      "Onset: 89.95s\n",
      "Duration: 10000ms\n",
      "Saved bout 2 to spMN2_ChR_EMG_VT029591_R20F02_4d_F_Fly2_Trial10_10000ms_066_2024_1121_161453_bout2_stim10000ms.csv\n",
      "\n",
      "Processing bout 3:\n",
      "Onset: 149.90s\n",
      "Duration: 10000ms\n"
     ]
    },
    {
     "name": "stderr",
     "output_type": "stream",
     "text": [
      "Processing files:  18%|█▊        | 2/11 [04:45<21:19, 142.22s/it]"
     ]
    },
    {
     "name": "stdout",
     "output_type": "stream",
     "text": [
      "Saved bout 3 to spMN2_ChR_EMG_VT029591_R20F02_4d_F_Fly2_Trial10_10000ms_066_2024_1121_161453_bout3_stim10000ms.csv\n",
      "\n",
      "Processed spMN2_ChR_EMG_VT029591_R20F02_4d_F_Fly2_Trial10_10000ms_066_2024_1121_161453.mat:\n",
      "Saved 3 bout files\n",
      "\n",
      "Processing file: /Users/camellyc/Library/CloudStorage/GoogleDrive-yichen@tuthill.casa/.shortcut-targets-by-id/10pxdlRXtzFB-abwDGi0jOGOFFNm3pmFK/Tuthill Lab Shared/Yichen/Spiracle/Spiracle Imaging/EMG_Analysis/241121_spMN2_ChR_EMG_Fly2/spMN2_ChR_EMG_VT029591_R20F02_4d_F_Fly2_Trial7_3000ms_2024_1121_160224.mat\n",
      "Loaded data shape: (9, 3594000)\n",
      "Number of blocks detected: 6\n",
      "Lengths of detected blocks (in seconds): [3.0, 2.99785, 2.99785, 2.99785, 2.99785, 2.99785]\n"
     ]
    },
    {
     "name": "stderr",
     "output_type": "stream",
     "text": [
      "Calculating Adaptive Threshold: 100%|██████████| 3594000/3594000 [02:04<00:00, 28837.67it/s]\n",
      "Detecting Spikes: 100%|██████████| 3593998/3593998 [00:00<00:00, 5086369.33it/s]\n"
     ]
    },
    {
     "name": "stdout",
     "output_type": "stream",
     "text": [
      "Detected 6 stimulus onsets at times: [ 14.99995  30.0021   89.9521  104.9521  134.8021  164.8021 ]\n",
      "Loaded stimulus orders: [[np.uint16(3000), np.uint16(3000), np.uint16(0)], [np.uint16(0), np.uint16(3000), np.uint16(3000)], [np.uint16(3000), np.uint16(0), np.uint16(3000)]]\n",
      "Matched 9 total stimuli (including 0ms)\n",
      "\n",
      "Processing bout 1:\n",
      "Onset: 15.00s\n",
      "Duration: 3000ms\n",
      "Saved bout 1 to spMN2_ChR_EMG_VT029591_R20F02_4d_F_Fly2_Trial7_3000ms_2024_1121_160224_bout1_stim3000ms.csv\n",
      "\n",
      "Processing bout 2:\n",
      "Onset: 30.00s\n",
      "Duration: 3000ms\n",
      "Saved bout 2 to spMN2_ChR_EMG_VT029591_R20F02_4d_F_Fly2_Trial7_3000ms_2024_1121_160224_bout2_stim3000ms.csv\n",
      "\n",
      "Processing bout 3:\n",
      "Onset: 45.00s\n",
      "Duration: 0ms\n",
      "Saved bout 3 to spMN2_ChR_EMG_VT029591_R20F02_4d_F_Fly2_Trial7_3000ms_2024_1121_160224_bout3_stim0ms.csv\n",
      "\n",
      "Processing bout 4:\n",
      "Onset: 75.00s\n",
      "Duration: 0ms\n",
      "Saved bout 4 to spMN2_ChR_EMG_VT029591_R20F02_4d_F_Fly2_Trial7_3000ms_2024_1121_160224_bout4_stim0ms.csv\n",
      "\n",
      "Processing bout 5:\n",
      "Onset: 89.95s\n",
      "Duration: 3000ms\n",
      "Saved bout 5 to spMN2_ChR_EMG_VT029591_R20F02_4d_F_Fly2_Trial7_3000ms_2024_1121_160224_bout5_stim3000ms.csv\n",
      "\n",
      "Processing bout 6:\n",
      "Onset: 104.95s\n",
      "Duration: 3000ms\n",
      "Saved bout 6 to spMN2_ChR_EMG_VT029591_R20F02_4d_F_Fly2_Trial7_3000ms_2024_1121_160224_bout6_stim3000ms.csv\n",
      "\n",
      "Processing bout 7:\n",
      "Onset: 134.80s\n",
      "Duration: 3000ms\n",
      "Saved bout 7 to spMN2_ChR_EMG_VT029591_R20F02_4d_F_Fly2_Trial7_3000ms_2024_1121_160224_bout7_stim3000ms.csv\n",
      "\n",
      "Processing bout 8:\n",
      "Onset: 150.00s\n",
      "Duration: 0ms\n",
      "Saved bout 8 to spMN2_ChR_EMG_VT029591_R20F02_4d_F_Fly2_Trial7_3000ms_2024_1121_160224_bout8_stim0ms.csv\n",
      "\n",
      "Processing bout 9:\n",
      "Onset: 164.80s\n",
      "Duration: 3000ms\n"
     ]
    },
    {
     "name": "stderr",
     "output_type": "stream",
     "text": [
      "Processing files:  27%|██▋       | 3/11 [07:13<19:17, 144.69s/it]"
     ]
    },
    {
     "name": "stdout",
     "output_type": "stream",
     "text": [
      "Saved bout 9 to spMN2_ChR_EMG_VT029591_R20F02_4d_F_Fly2_Trial7_3000ms_2024_1121_160224_bout9_stim3000ms.csv\n",
      "\n",
      "Processed spMN2_ChR_EMG_VT029591_R20F02_4d_F_Fly2_Trial7_3000ms_2024_1121_160224.mat:\n",
      "Saved 9 bout files\n",
      "\n",
      "Processing file: /Users/camellyc/Library/CloudStorage/GoogleDrive-yichen@tuthill.casa/.shortcut-targets-by-id/10pxdlRXtzFB-abwDGi0jOGOFFNm3pmFK/Tuthill Lab Shared/Yichen/Spiracle/Spiracle Imaging/EMG_Analysis/241121_spMN2_ChR_EMG_Fly2/spMN2_ChR_EMG_VT029591_R20F02_4d_F_Fly2_Trial11_10000ms_066_2024_1121_162133.mat\n",
      "Loaded data shape: (9, 3598000)\n",
      "Number of blocks detected: 3\n",
      "Lengths of detected blocks (in seconds): [10.0, 9.99785, 9.99785]\n"
     ]
    },
    {
     "name": "stderr",
     "output_type": "stream",
     "text": [
      "Calculating Adaptive Threshold: 100%|██████████| 3598000/3598000 [02:04<00:00, 28789.44it/s]\n",
      "Detecting Spikes: 100%|██████████| 3597998/3597998 [00:00<00:00, 5160418.67it/s]\n"
     ]
    },
    {
     "name": "stdout",
     "output_type": "stream",
     "text": [
      "Detected 3 stimulus onsets at times: [ 29.99995  89.9521  149.9521 ]\n",
      "Loaded stimulus orders: [[np.uint16(10000)], [np.uint16(10000)], [np.uint16(10000)]]\n",
      "Matched 3 total stimuli (including 0ms)\n",
      "\n",
      "Processing bout 1:\n",
      "Onset: 30.00s\n",
      "Duration: 10000ms\n",
      "Saved bout 1 to spMN2_ChR_EMG_VT029591_R20F02_4d_F_Fly2_Trial11_10000ms_066_2024_1121_162133_bout1_stim10000ms.csv\n",
      "\n",
      "Processing bout 2:\n",
      "Onset: 89.95s\n",
      "Duration: 10000ms\n",
      "Saved bout 2 to spMN2_ChR_EMG_VT029591_R20F02_4d_F_Fly2_Trial11_10000ms_066_2024_1121_162133_bout2_stim10000ms.csv\n",
      "\n",
      "Processing bout 3:\n",
      "Onset: 149.95s\n",
      "Duration: 10000ms\n"
     ]
    },
    {
     "name": "stderr",
     "output_type": "stream",
     "text": [
      "Processing files:  36%|███▋      | 4/11 [09:32<16:38, 142.63s/it]"
     ]
    },
    {
     "name": "stdout",
     "output_type": "stream",
     "text": [
      "Saved bout 3 to spMN2_ChR_EMG_VT029591_R20F02_4d_F_Fly2_Trial11_10000ms_066_2024_1121_162133_bout3_stim10000ms.csv\n",
      "\n",
      "Processed spMN2_ChR_EMG_VT029591_R20F02_4d_F_Fly2_Trial11_10000ms_066_2024_1121_162133.mat:\n",
      "Saved 3 bout files\n",
      "\n",
      "Processing file: /Users/camellyc/Library/CloudStorage/GoogleDrive-yichen@tuthill.casa/.shortcut-targets-by-id/10pxdlRXtzFB-abwDGi0jOGOFFNm3pmFK/Tuthill Lab Shared/Yichen/Spiracle/Spiracle Imaging/EMG_Analysis/241121_spMN2_ChR_EMG_Fly2/spMN2_ChR_EMG_VT029591_R20F02_4d_F_Fly2_Trial6_3000ms_2024_1121_155823.mat\n",
      "Loaded data shape: (9, 3594000)\n",
      "Number of blocks detected: 6\n",
      "Lengths of detected blocks (in seconds): [3.0, 2.99785, 2.99785, 2.99785, 2.99785, 2.99785]\n"
     ]
    },
    {
     "name": "stderr",
     "output_type": "stream",
     "text": [
      "Calculating Adaptive Threshold: 100%|██████████| 3594000/3594000 [02:04<00:00, 28845.99it/s]\n",
      "Detecting Spikes: 100%|██████████| 3593998/3593998 [00:00<00:00, 5136401.09it/s]\n"
     ]
    },
    {
     "name": "stdout",
     "output_type": "stream",
     "text": [
      "Detected 6 stimulus onsets at times: [ 29.99995  45.0021   89.8021  104.8021  149.7521  164.7521 ]\n",
      "Loaded stimulus orders: [[np.uint16(0), np.uint16(3000), np.uint16(3000)], [np.uint16(0), np.uint16(3000), np.uint16(3000)], [np.uint16(0), np.uint16(3000), np.uint16(3000)]]\n",
      "Matched 9 total stimuli (including 0ms)\n",
      "\n",
      "Processing bout 1:\n",
      "Onset: 15.00s\n",
      "Duration: 0ms\n",
      "Saved bout 1 to spMN2_ChR_EMG_VT029591_R20F02_4d_F_Fly2_Trial6_3000ms_2024_1121_155823_bout1_stim0ms.csv\n",
      "\n",
      "Processing bout 2:\n",
      "Onset: 30.00s\n",
      "Duration: 3000ms\n",
      "Saved bout 2 to spMN2_ChR_EMG_VT029591_R20F02_4d_F_Fly2_Trial6_3000ms_2024_1121_155823_bout2_stim3000ms.csv\n",
      "\n",
      "Processing bout 3:\n",
      "Onset: 45.00s\n",
      "Duration: 3000ms\n",
      "Saved bout 3 to spMN2_ChR_EMG_VT029591_R20F02_4d_F_Fly2_Trial6_3000ms_2024_1121_155823_bout3_stim3000ms.csv\n",
      "\n",
      "Processing bout 4:\n",
      "Onset: 75.00s\n",
      "Duration: 0ms\n",
      "Saved bout 4 to spMN2_ChR_EMG_VT029591_R20F02_4d_F_Fly2_Trial6_3000ms_2024_1121_155823_bout4_stim0ms.csv\n",
      "\n",
      "Processing bout 5:\n",
      "Onset: 89.80s\n",
      "Duration: 3000ms\n",
      "Saved bout 5 to spMN2_ChR_EMG_VT029591_R20F02_4d_F_Fly2_Trial6_3000ms_2024_1121_155823_bout5_stim3000ms.csv\n",
      "\n",
      "Processing bout 6:\n",
      "Onset: 104.80s\n",
      "Duration: 3000ms\n",
      "Saved bout 6 to spMN2_ChR_EMG_VT029591_R20F02_4d_F_Fly2_Trial6_3000ms_2024_1121_155823_bout6_stim3000ms.csv\n",
      "\n",
      "Processing bout 7:\n",
      "Onset: 135.00s\n",
      "Duration: 0ms\n",
      "Saved bout 7 to spMN2_ChR_EMG_VT029591_R20F02_4d_F_Fly2_Trial6_3000ms_2024_1121_155823_bout7_stim0ms.csv\n",
      "\n",
      "Processing bout 8:\n",
      "Onset: 149.75s\n",
      "Duration: 3000ms\n",
      "Saved bout 8 to spMN2_ChR_EMG_VT029591_R20F02_4d_F_Fly2_Trial6_3000ms_2024_1121_155823_bout8_stim3000ms.csv\n",
      "\n",
      "Processing bout 9:\n",
      "Onset: 164.75s\n",
      "Duration: 3000ms\n"
     ]
    },
    {
     "name": "stderr",
     "output_type": "stream",
     "text": [
      "Processing files:  45%|████▌     | 5/11 [12:00<14:26, 144.44s/it]"
     ]
    },
    {
     "name": "stdout",
     "output_type": "stream",
     "text": [
      "Saved bout 9 to spMN2_ChR_EMG_VT029591_R20F02_4d_F_Fly2_Trial6_3000ms_2024_1121_155823_bout9_stim3000ms.csv\n",
      "\n",
      "Processed spMN2_ChR_EMG_VT029591_R20F02_4d_F_Fly2_Trial6_3000ms_2024_1121_155823.mat:\n",
      "Saved 9 bout files\n",
      "\n",
      "Processing file: /Users/camellyc/Library/CloudStorage/GoogleDrive-yichen@tuthill.casa/.shortcut-targets-by-id/10pxdlRXtzFB-abwDGi0jOGOFFNm3pmFK/Tuthill Lab Shared/Yichen/Spiracle/Spiracle Imaging/EMG_Analysis/241121_spMN2_ChR_EMG_Fly2/spMN2_ChR_EMG_VT029591_R20F02_4d_F_Fly2_Trial1_3000ms_2024_1121_153656.mat\n",
      "Loaded data shape: (9, 3594000)\n",
      "Number of blocks detected: 6\n",
      "Lengths of detected blocks (in seconds): [3.0, 2.99785, 2.99785, 2.99785, 2.99785, 2.99785]\n"
     ]
    },
    {
     "name": "stderr",
     "output_type": "stream",
     "text": [
      "Calculating Adaptive Threshold: 100%|██████████| 3594000/3594000 [02:04<00:00, 28818.18it/s]\n",
      "Detecting Spikes: 100%|██████████| 3593998/3593998 [00:00<00:00, 5216419.43it/s]\n"
     ]
    },
    {
     "name": "stdout",
     "output_type": "stream",
     "text": [
      "Detected 6 stimulus onsets at times: [ 29.99995  45.0021   74.9521  104.9521  134.8521  149.8521 ]\n",
      "Loaded stimulus orders: [[np.uint16(0), np.uint16(3000), np.uint16(3000)], [np.uint16(3000), np.uint16(0), np.uint16(3000)], [np.uint16(3000), np.uint16(3000), np.uint16(0)]]\n",
      "Matched 9 total stimuli (including 0ms)\n",
      "\n",
      "Processing bout 1:\n",
      "Onset: 15.00s\n",
      "Duration: 0ms\n",
      "Saved bout 1 to spMN2_ChR_EMG_VT029591_R20F02_4d_F_Fly2_Trial1_3000ms_2024_1121_153656_bout1_stim0ms.csv\n",
      "\n",
      "Processing bout 2:\n",
      "Onset: 30.00s\n",
      "Duration: 3000ms\n",
      "Saved bout 2 to spMN2_ChR_EMG_VT029591_R20F02_4d_F_Fly2_Trial1_3000ms_2024_1121_153656_bout2_stim3000ms.csv\n",
      "\n",
      "Processing bout 3:\n",
      "Onset: 45.00s\n",
      "Duration: 3000ms\n",
      "Saved bout 3 to spMN2_ChR_EMG_VT029591_R20F02_4d_F_Fly2_Trial1_3000ms_2024_1121_153656_bout3_stim3000ms.csv\n",
      "\n",
      "Processing bout 4:\n",
      "Onset: 74.95s\n",
      "Duration: 3000ms\n",
      "Saved bout 4 to spMN2_ChR_EMG_VT029591_R20F02_4d_F_Fly2_Trial1_3000ms_2024_1121_153656_bout4_stim3000ms.csv\n",
      "\n",
      "Processing bout 5:\n",
      "Onset: 90.00s\n",
      "Duration: 0ms\n",
      "Saved bout 5 to spMN2_ChR_EMG_VT029591_R20F02_4d_F_Fly2_Trial1_3000ms_2024_1121_153656_bout5_stim0ms.csv\n",
      "\n",
      "Processing bout 6:\n",
      "Onset: 104.95s\n",
      "Duration: 3000ms\n",
      "Saved bout 6 to spMN2_ChR_EMG_VT029591_R20F02_4d_F_Fly2_Trial1_3000ms_2024_1121_153656_bout6_stim3000ms.csv\n",
      "\n",
      "Processing bout 7:\n",
      "Onset: 134.85s\n",
      "Duration: 3000ms\n",
      "Saved bout 7 to spMN2_ChR_EMG_VT029591_R20F02_4d_F_Fly2_Trial1_3000ms_2024_1121_153656_bout7_stim3000ms.csv\n",
      "\n",
      "Processing bout 8:\n",
      "Onset: 149.85s\n",
      "Duration: 3000ms\n",
      "Saved bout 8 to spMN2_ChR_EMG_VT029591_R20F02_4d_F_Fly2_Trial1_3000ms_2024_1121_153656_bout8_stim3000ms.csv\n",
      "\n",
      "Processing bout 9:\n",
      "Onset: 165.00s\n",
      "Duration: 0ms\n"
     ]
    },
    {
     "name": "stderr",
     "output_type": "stream",
     "text": [
      "Processing files:  55%|█████▍    | 6/11 [14:28<12:07, 145.59s/it]"
     ]
    },
    {
     "name": "stdout",
     "output_type": "stream",
     "text": [
      "Saved bout 9 to spMN2_ChR_EMG_VT029591_R20F02_4d_F_Fly2_Trial1_3000ms_2024_1121_153656_bout9_stim0ms.csv\n",
      "\n",
      "Processed spMN2_ChR_EMG_VT029591_R20F02_4d_F_Fly2_Trial1_3000ms_2024_1121_153656.mat:\n",
      "Saved 9 bout files\n",
      "\n",
      "Processing file: /Users/camellyc/Library/CloudStorage/GoogleDrive-yichen@tuthill.casa/.shortcut-targets-by-id/10pxdlRXtzFB-abwDGi0jOGOFFNm3pmFK/Tuthill Lab Shared/Yichen/Spiracle/Spiracle Imaging/EMG_Analysis/241121_spMN2_ChR_EMG_Fly2/spMN2_ChR_EMG_VT029591_R20F02_4d_F_Fly2_Trial8_3000ms_2024_1121_160647.mat\n",
      "Loaded data shape: (9, 3594000)\n",
      "Number of blocks detected: 6\n",
      "Lengths of detected blocks (in seconds): [3.0, 2.99785, 2.99785, 2.99785, 2.99785, 2.99785]\n"
     ]
    },
    {
     "name": "stderr",
     "output_type": "stream",
     "text": [
      "Calculating Adaptive Threshold: 100%|██████████| 3594000/3594000 [02:04<00:00, 28807.93it/s]\n",
      "Detecting Spikes: 100%|██████████| 3593998/3593998 [00:00<00:00, 5148180.43it/s]\n"
     ]
    },
    {
     "name": "stdout",
     "output_type": "stream",
     "text": [
      "Detected 6 stimulus onsets at times: [ 29.99995  45.0021   74.9521  104.9521  149.8021  164.8021 ]\n",
      "Loaded stimulus orders: [[np.uint16(0), np.uint16(3000), np.uint16(3000)], [np.uint16(3000), np.uint16(0), np.uint16(3000)], [np.uint16(0), np.uint16(3000), np.uint16(3000)]]\n",
      "Matched 9 total stimuli (including 0ms)\n",
      "\n",
      "Processing bout 1:\n",
      "Onset: 15.00s\n",
      "Duration: 0ms\n",
      "Saved bout 1 to spMN2_ChR_EMG_VT029591_R20F02_4d_F_Fly2_Trial8_3000ms_2024_1121_160647_bout1_stim0ms.csv\n",
      "\n",
      "Processing bout 2:\n",
      "Onset: 30.00s\n",
      "Duration: 3000ms\n",
      "Saved bout 2 to spMN2_ChR_EMG_VT029591_R20F02_4d_F_Fly2_Trial8_3000ms_2024_1121_160647_bout2_stim3000ms.csv\n",
      "\n",
      "Processing bout 3:\n",
      "Onset: 45.00s\n",
      "Duration: 3000ms\n",
      "Saved bout 3 to spMN2_ChR_EMG_VT029591_R20F02_4d_F_Fly2_Trial8_3000ms_2024_1121_160647_bout3_stim3000ms.csv\n",
      "\n",
      "Processing bout 4:\n",
      "Onset: 74.95s\n",
      "Duration: 3000ms\n",
      "Saved bout 4 to spMN2_ChR_EMG_VT029591_R20F02_4d_F_Fly2_Trial8_3000ms_2024_1121_160647_bout4_stim3000ms.csv\n",
      "\n",
      "Processing bout 5:\n",
      "Onset: 90.00s\n",
      "Duration: 0ms\n",
      "Saved bout 5 to spMN2_ChR_EMG_VT029591_R20F02_4d_F_Fly2_Trial8_3000ms_2024_1121_160647_bout5_stim0ms.csv\n",
      "\n",
      "Processing bout 6:\n",
      "Onset: 104.95s\n",
      "Duration: 3000ms\n",
      "Saved bout 6 to spMN2_ChR_EMG_VT029591_R20F02_4d_F_Fly2_Trial8_3000ms_2024_1121_160647_bout6_stim3000ms.csv\n",
      "\n",
      "Processing bout 7:\n",
      "Onset: 135.00s\n",
      "Duration: 0ms\n",
      "Saved bout 7 to spMN2_ChR_EMG_VT029591_R20F02_4d_F_Fly2_Trial8_3000ms_2024_1121_160647_bout7_stim0ms.csv\n",
      "\n",
      "Processing bout 8:\n",
      "Onset: 149.80s\n",
      "Duration: 3000ms\n",
      "Saved bout 8 to spMN2_ChR_EMG_VT029591_R20F02_4d_F_Fly2_Trial8_3000ms_2024_1121_160647_bout8_stim3000ms.csv\n",
      "\n",
      "Processing bout 9:\n",
      "Onset: 164.80s\n",
      "Duration: 3000ms\n"
     ]
    },
    {
     "name": "stderr",
     "output_type": "stream",
     "text": [
      "Processing files:  64%|██████▎   | 7/11 [16:56<09:45, 146.36s/it]"
     ]
    },
    {
     "name": "stdout",
     "output_type": "stream",
     "text": [
      "Saved bout 9 to spMN2_ChR_EMG_VT029591_R20F02_4d_F_Fly2_Trial8_3000ms_2024_1121_160647_bout9_stim3000ms.csv\n",
      "\n",
      "Processed spMN2_ChR_EMG_VT029591_R20F02_4d_F_Fly2_Trial8_3000ms_2024_1121_160647.mat:\n",
      "Saved 9 bout files\n",
      "\n",
      "Processing file: /Users/camellyc/Library/CloudStorage/GoogleDrive-yichen@tuthill.casa/.shortcut-targets-by-id/10pxdlRXtzFB-abwDGi0jOGOFFNm3pmFK/Tuthill Lab Shared/Yichen/Spiracle/Spiracle Imaging/EMG_Analysis/241121_spMN2_ChR_EMG_Fly2/spMN2_ChR_EMG_VT029591_R20F02_4d_F_Fly2_Trial9_3000ms_2024_1121_161046.mat\n",
      "Loaded data shape: (9, 3596000)\n",
      "Number of blocks detected: 6\n",
      "Lengths of detected blocks (in seconds): [3.0, 2.99785, 2.99785, 2.99785, 2.99785, 2.99785]\n"
     ]
    },
    {
     "name": "stderr",
     "output_type": "stream",
     "text": [
      "Calculating Adaptive Threshold: 100%|██████████| 3596000/3596000 [02:04<00:00, 28860.18it/s]\n",
      "Detecting Spikes: 100%|██████████| 3595998/3595998 [00:00<00:00, 4890736.57it/s]\n"
     ]
    },
    {
     "name": "stdout",
     "output_type": "stream",
     "text": [
      "Detected 6 stimulus onsets at times: [ 14.99995  45.0021   74.9521   89.9521  149.9021  164.9021 ]\n",
      "Loaded stimulus orders: [[np.uint16(3000), np.uint16(0), np.uint16(3000)], [np.uint16(3000), np.uint16(3000), np.uint16(0)], [np.uint16(0), np.uint16(3000), np.uint16(3000)]]\n",
      "Matched 9 total stimuli (including 0ms)\n",
      "\n",
      "Processing bout 1:\n",
      "Onset: 15.00s\n",
      "Duration: 3000ms\n",
      "Saved bout 1 to spMN2_ChR_EMG_VT029591_R20F02_4d_F_Fly2_Trial9_3000ms_2024_1121_161046_bout1_stim3000ms.csv\n",
      "\n",
      "Processing bout 2:\n",
      "Onset: 30.00s\n",
      "Duration: 0ms\n",
      "Saved bout 2 to spMN2_ChR_EMG_VT029591_R20F02_4d_F_Fly2_Trial9_3000ms_2024_1121_161046_bout2_stim0ms.csv\n",
      "\n",
      "Processing bout 3:\n",
      "Onset: 45.00s\n",
      "Duration: 3000ms\n",
      "Saved bout 3 to spMN2_ChR_EMG_VT029591_R20F02_4d_F_Fly2_Trial9_3000ms_2024_1121_161046_bout3_stim3000ms.csv\n",
      "\n",
      "Processing bout 4:\n",
      "Onset: 74.95s\n",
      "Duration: 3000ms\n",
      "Saved bout 4 to spMN2_ChR_EMG_VT029591_R20F02_4d_F_Fly2_Trial9_3000ms_2024_1121_161046_bout4_stim3000ms.csv\n",
      "\n",
      "Processing bout 5:\n",
      "Onset: 89.95s\n",
      "Duration: 3000ms\n",
      "Saved bout 5 to spMN2_ChR_EMG_VT029591_R20F02_4d_F_Fly2_Trial9_3000ms_2024_1121_161046_bout5_stim3000ms.csv\n",
      "\n",
      "Processing bout 6:\n",
      "Onset: 105.00s\n",
      "Duration: 0ms\n",
      "Saved bout 6 to spMN2_ChR_EMG_VT029591_R20F02_4d_F_Fly2_Trial9_3000ms_2024_1121_161046_bout6_stim0ms.csv\n",
      "\n",
      "Processing bout 7:\n",
      "Onset: 135.00s\n",
      "Duration: 0ms\n",
      "Saved bout 7 to spMN2_ChR_EMG_VT029591_R20F02_4d_F_Fly2_Trial9_3000ms_2024_1121_161046_bout7_stim0ms.csv\n",
      "\n",
      "Processing bout 8:\n",
      "Onset: 149.90s\n",
      "Duration: 3000ms\n",
      "Saved bout 8 to spMN2_ChR_EMG_VT029591_R20F02_4d_F_Fly2_Trial9_3000ms_2024_1121_161046_bout8_stim3000ms.csv\n",
      "\n",
      "Processing bout 9:\n",
      "Onset: 164.90s\n",
      "Duration: 3000ms\n"
     ]
    },
    {
     "name": "stderr",
     "output_type": "stream",
     "text": [
      "Processing files:  73%|███████▎  | 8/11 [19:24<07:20, 146.90s/it]"
     ]
    },
    {
     "name": "stdout",
     "output_type": "stream",
     "text": [
      "Saved bout 9 to spMN2_ChR_EMG_VT029591_R20F02_4d_F_Fly2_Trial9_3000ms_2024_1121_161046_bout9_stim3000ms.csv\n",
      "\n",
      "Processed spMN2_ChR_EMG_VT029591_R20F02_4d_F_Fly2_Trial9_3000ms_2024_1121_161046.mat:\n",
      "Saved 9 bout files\n",
      "\n",
      "Processing file: /Users/camellyc/Library/CloudStorage/GoogleDrive-yichen@tuthill.casa/.shortcut-targets-by-id/10pxdlRXtzFB-abwDGi0jOGOFFNm3pmFK/Tuthill Lab Shared/Yichen/Spiracle/Spiracle Imaging/EMG_Analysis/241121_spMN2_ChR_EMG_Fly2/spMN2_ChR_EMG_VT029591_R20F02_4d_F_Fly2_Trial3_3000ms_2024_1121_154603.mat\n",
      "Loaded data shape: (9, 3595000)\n",
      "Number of blocks detected: 6\n",
      "Lengths of detected blocks (in seconds): [3.0, 2.99785, 2.99785, 2.99785, 2.99785, 2.99785]\n"
     ]
    },
    {
     "name": "stderr",
     "output_type": "stream",
     "text": [
      "Calculating Adaptive Threshold: 100%|██████████| 3595000/3595000 [02:04<00:00, 28785.97it/s]\n",
      "Detecting Spikes: 100%|██████████| 3594998/3594998 [00:00<00:00, 5181320.97it/s]\n"
     ]
    },
    {
     "name": "stdout",
     "output_type": "stream",
     "text": [
      "Detected 6 stimulus onsets at times: [ 14.99995  30.0021   74.9021   89.9021  134.8521  164.8521 ]\n",
      "Loaded stimulus orders: [[np.uint16(3000), np.uint16(3000), np.uint16(0)], [np.uint16(3000), np.uint16(3000), np.uint16(0)], [np.uint16(3000), np.uint16(0), np.uint16(3000)]]\n",
      "Matched 9 total stimuli (including 0ms)\n",
      "\n",
      "Processing bout 1:\n",
      "Onset: 15.00s\n",
      "Duration: 3000ms\n",
      "Saved bout 1 to spMN2_ChR_EMG_VT029591_R20F02_4d_F_Fly2_Trial3_3000ms_2024_1121_154603_bout1_stim3000ms.csv\n",
      "\n",
      "Processing bout 2:\n",
      "Onset: 30.00s\n",
      "Duration: 3000ms\n",
      "Saved bout 2 to spMN2_ChR_EMG_VT029591_R20F02_4d_F_Fly2_Trial3_3000ms_2024_1121_154603_bout2_stim3000ms.csv\n",
      "\n",
      "Processing bout 3:\n",
      "Onset: 45.00s\n",
      "Duration: 0ms\n",
      "Saved bout 3 to spMN2_ChR_EMG_VT029591_R20F02_4d_F_Fly2_Trial3_3000ms_2024_1121_154603_bout3_stim0ms.csv\n",
      "\n",
      "Processing bout 4:\n",
      "Onset: 74.90s\n",
      "Duration: 3000ms\n",
      "Saved bout 4 to spMN2_ChR_EMG_VT029591_R20F02_4d_F_Fly2_Trial3_3000ms_2024_1121_154603_bout4_stim3000ms.csv\n",
      "\n",
      "Processing bout 5:\n",
      "Onset: 89.90s\n",
      "Duration: 3000ms\n",
      "Saved bout 5 to spMN2_ChR_EMG_VT029591_R20F02_4d_F_Fly2_Trial3_3000ms_2024_1121_154603_bout5_stim3000ms.csv\n",
      "\n",
      "Processing bout 6:\n",
      "Onset: 105.00s\n",
      "Duration: 0ms\n",
      "Saved bout 6 to spMN2_ChR_EMG_VT029591_R20F02_4d_F_Fly2_Trial3_3000ms_2024_1121_154603_bout6_stim0ms.csv\n",
      "\n",
      "Processing bout 7:\n",
      "Onset: 134.85s\n",
      "Duration: 3000ms\n",
      "Saved bout 7 to spMN2_ChR_EMG_VT029591_R20F02_4d_F_Fly2_Trial3_3000ms_2024_1121_154603_bout7_stim3000ms.csv\n",
      "\n",
      "Processing bout 8:\n",
      "Onset: 150.00s\n",
      "Duration: 0ms\n",
      "Saved bout 8 to spMN2_ChR_EMG_VT029591_R20F02_4d_F_Fly2_Trial3_3000ms_2024_1121_154603_bout8_stim0ms.csv\n",
      "\n",
      "Processing bout 9:\n",
      "Onset: 164.85s\n",
      "Duration: 3000ms\n"
     ]
    },
    {
     "name": "stderr",
     "output_type": "stream",
     "text": [
      "Processing files:  82%|████████▏ | 9/11 [21:52<04:54, 147.23s/it]"
     ]
    },
    {
     "name": "stdout",
     "output_type": "stream",
     "text": [
      "Saved bout 9 to spMN2_ChR_EMG_VT029591_R20F02_4d_F_Fly2_Trial3_3000ms_2024_1121_154603_bout9_stim3000ms.csv\n",
      "\n",
      "Processed spMN2_ChR_EMG_VT029591_R20F02_4d_F_Fly2_Trial3_3000ms_2024_1121_154603.mat:\n",
      "Saved 9 bout files\n",
      "\n",
      "Processing file: /Users/camellyc/Library/CloudStorage/GoogleDrive-yichen@tuthill.casa/.shortcut-targets-by-id/10pxdlRXtzFB-abwDGi0jOGOFFNm3pmFK/Tuthill Lab Shared/Yichen/Spiracle/Spiracle Imaging/EMG_Analysis/241121_spMN2_ChR_EMG_Fly2/spMN2_ChR_EMG_VT029591_R20F02_4d_F_Fly2_Trial2_3000ms_2024_1121_154129.mat\n",
      "Loaded data shape: (9, 3594000)\n",
      "Number of blocks detected: 6\n",
      "Lengths of detected blocks (in seconds): [3.0, 2.99785, 2.99785, 2.99785, 2.99785, 2.99785]\n"
     ]
    },
    {
     "name": "stderr",
     "output_type": "stream",
     "text": [
      "Calculating Adaptive Threshold: 100%|██████████| 3594000/3594000 [02:04<00:00, 28848.84it/s]\n",
      "Detecting Spikes: 100%|██████████| 3593998/3593998 [00:00<00:00, 5065743.44it/s]\n"
     ]
    },
    {
     "name": "stdout",
     "output_type": "stream",
     "text": [
      "Detected 6 stimulus onsets at times: [ 14.99995  45.0021   74.9021   89.9021  149.8021  164.8021 ]\n",
      "Loaded stimulus orders: [[np.uint16(3000), np.uint16(0), np.uint16(3000)], [np.uint16(3000), np.uint16(3000), np.uint16(0)], [np.uint16(0), np.uint16(3000), np.uint16(3000)]]\n",
      "Matched 9 total stimuli (including 0ms)\n",
      "\n",
      "Processing bout 1:\n",
      "Onset: 15.00s\n",
      "Duration: 3000ms\n",
      "Saved bout 1 to spMN2_ChR_EMG_VT029591_R20F02_4d_F_Fly2_Trial2_3000ms_2024_1121_154129_bout1_stim3000ms.csv\n",
      "\n",
      "Processing bout 2:\n",
      "Onset: 30.00s\n",
      "Duration: 0ms\n",
      "Saved bout 2 to spMN2_ChR_EMG_VT029591_R20F02_4d_F_Fly2_Trial2_3000ms_2024_1121_154129_bout2_stim0ms.csv\n",
      "\n",
      "Processing bout 3:\n",
      "Onset: 45.00s\n",
      "Duration: 3000ms\n",
      "Saved bout 3 to spMN2_ChR_EMG_VT029591_R20F02_4d_F_Fly2_Trial2_3000ms_2024_1121_154129_bout3_stim3000ms.csv\n",
      "\n",
      "Processing bout 4:\n",
      "Onset: 74.90s\n",
      "Duration: 3000ms\n",
      "Saved bout 4 to spMN2_ChR_EMG_VT029591_R20F02_4d_F_Fly2_Trial2_3000ms_2024_1121_154129_bout4_stim3000ms.csv\n",
      "\n",
      "Processing bout 5:\n",
      "Onset: 89.90s\n",
      "Duration: 3000ms\n",
      "Saved bout 5 to spMN2_ChR_EMG_VT029591_R20F02_4d_F_Fly2_Trial2_3000ms_2024_1121_154129_bout5_stim3000ms.csv\n",
      "\n",
      "Processing bout 6:\n",
      "Onset: 105.00s\n",
      "Duration: 0ms\n",
      "Saved bout 6 to spMN2_ChR_EMG_VT029591_R20F02_4d_F_Fly2_Trial2_3000ms_2024_1121_154129_bout6_stim0ms.csv\n",
      "\n",
      "Processing bout 7:\n",
      "Onset: 135.00s\n",
      "Duration: 0ms\n",
      "Saved bout 7 to spMN2_ChR_EMG_VT029591_R20F02_4d_F_Fly2_Trial2_3000ms_2024_1121_154129_bout7_stim0ms.csv\n",
      "\n",
      "Processing bout 8:\n",
      "Onset: 149.80s\n",
      "Duration: 3000ms\n",
      "Saved bout 8 to spMN2_ChR_EMG_VT029591_R20F02_4d_F_Fly2_Trial2_3000ms_2024_1121_154129_bout8_stim3000ms.csv\n",
      "\n",
      "Processing bout 9:\n",
      "Onset: 164.80s\n",
      "Duration: 3000ms\n"
     ]
    },
    {
     "name": "stderr",
     "output_type": "stream",
     "text": [
      "Processing files:  91%|█████████ | 10/11 [24:19<02:27, 147.35s/it]"
     ]
    },
    {
     "name": "stdout",
     "output_type": "stream",
     "text": [
      "Saved bout 9 to spMN2_ChR_EMG_VT029591_R20F02_4d_F_Fly2_Trial2_3000ms_2024_1121_154129_bout9_stim3000ms.csv\n",
      "\n",
      "Processed spMN2_ChR_EMG_VT029591_R20F02_4d_F_Fly2_Trial2_3000ms_2024_1121_154129.mat:\n",
      "Saved 9 bout files\n",
      "\n",
      "Processing file: /Users/camellyc/Library/CloudStorage/GoogleDrive-yichen@tuthill.casa/.shortcut-targets-by-id/10pxdlRXtzFB-abwDGi0jOGOFFNm3pmFK/Tuthill Lab Shared/Yichen/Spiracle/Spiracle Imaging/EMG_Analysis/241121_spMN2_ChR_EMG_Fly2/spMN2_ChR_EMG_VT029591_R20F02_4d_F_Fly2_Trial4_3000ms_2024_1121_155011.mat\n",
      "Loaded data shape: (9, 3597000)\n",
      "Number of blocks detected: 6\n",
      "Lengths of detected blocks (in seconds): [3.0, 2.99785, 2.99785, 2.99785, 2.99785, 2.99785]\n"
     ]
    },
    {
     "name": "stderr",
     "output_type": "stream",
     "text": [
      "Calculating Adaptive Threshold: 100%|██████████| 3597000/3597000 [02:05<00:00, 28754.60it/s]\n",
      "Detecting Spikes: 100%|██████████| 3596998/3596998 [00:00<00:00, 5192550.34it/s]\n"
     ]
    },
    {
     "name": "stdout",
     "output_type": "stream",
     "text": [
      "Detected 6 stimulus onsets at times: [ 29.99995  45.0021   89.9521  104.9521  134.9021  164.9021 ]\n",
      "Loaded stimulus orders: [[np.uint16(0), np.uint16(3000), np.uint16(3000)], [np.uint16(0), np.uint16(3000), np.uint16(3000)], [np.uint16(3000), np.uint16(0), np.uint16(3000)]]\n",
      "Matched 9 total stimuli (including 0ms)\n",
      "\n",
      "Processing bout 1:\n",
      "Onset: 15.00s\n",
      "Duration: 0ms\n",
      "Saved bout 1 to spMN2_ChR_EMG_VT029591_R20F02_4d_F_Fly2_Trial4_3000ms_2024_1121_155011_bout1_stim0ms.csv\n",
      "\n",
      "Processing bout 2:\n",
      "Onset: 30.00s\n",
      "Duration: 3000ms\n",
      "Saved bout 2 to spMN2_ChR_EMG_VT029591_R20F02_4d_F_Fly2_Trial4_3000ms_2024_1121_155011_bout2_stim3000ms.csv\n",
      "\n",
      "Processing bout 3:\n",
      "Onset: 45.00s\n",
      "Duration: 3000ms\n",
      "Saved bout 3 to spMN2_ChR_EMG_VT029591_R20F02_4d_F_Fly2_Trial4_3000ms_2024_1121_155011_bout3_stim3000ms.csv\n",
      "\n",
      "Processing bout 4:\n",
      "Onset: 75.00s\n",
      "Duration: 0ms\n",
      "Saved bout 4 to spMN2_ChR_EMG_VT029591_R20F02_4d_F_Fly2_Trial4_3000ms_2024_1121_155011_bout4_stim0ms.csv\n",
      "\n",
      "Processing bout 5:\n",
      "Onset: 89.95s\n",
      "Duration: 3000ms\n",
      "Saved bout 5 to spMN2_ChR_EMG_VT029591_R20F02_4d_F_Fly2_Trial4_3000ms_2024_1121_155011_bout5_stim3000ms.csv\n",
      "\n",
      "Processing bout 6:\n",
      "Onset: 104.95s\n",
      "Duration: 3000ms\n",
      "Saved bout 6 to spMN2_ChR_EMG_VT029591_R20F02_4d_F_Fly2_Trial4_3000ms_2024_1121_155011_bout6_stim3000ms.csv\n",
      "\n",
      "Processing bout 7:\n",
      "Onset: 134.90s\n",
      "Duration: 3000ms\n",
      "Saved bout 7 to spMN2_ChR_EMG_VT029591_R20F02_4d_F_Fly2_Trial4_3000ms_2024_1121_155011_bout7_stim3000ms.csv\n",
      "\n",
      "Processing bout 8:\n",
      "Onset: 150.00s\n",
      "Duration: 0ms\n",
      "Saved bout 8 to spMN2_ChR_EMG_VT029591_R20F02_4d_F_Fly2_Trial4_3000ms_2024_1121_155011_bout8_stim0ms.csv\n",
      "\n",
      "Processing bout 9:\n",
      "Onset: 164.90s\n",
      "Duration: 3000ms\n"
     ]
    },
    {
     "name": "stderr",
     "output_type": "stream",
     "text": [
      "Processing files: 100%|██████████| 11/11 [26:47<00:00, 146.18s/it]"
     ]
    },
    {
     "name": "stdout",
     "output_type": "stream",
     "text": [
      "Saved bout 9 to spMN2_ChR_EMG_VT029591_R20F02_4d_F_Fly2_Trial4_3000ms_2024_1121_155011_bout9_stim3000ms.csv\n",
      "\n",
      "Processed spMN2_ChR_EMG_VT029591_R20F02_4d_F_Fly2_Trial4_3000ms_2024_1121_155011.mat:\n",
      "Saved 9 bout files\n",
      "\n",
      "Processing complete!\n"
     ]
    },
    {
     "name": "stderr",
     "output_type": "stream",
     "text": [
      "\n"
     ]
    }
   ],
   "source": [
    "### Main code to save bout data as csv.\n",
    "\n",
    "import os\n",
    "from tqdm import tqdm\n",
    "\n",
    "# Import the helper functions\n",
    "%run '/Users/camellyc/Library/Mobile Documents/com~apple~CloudDocs/学习/Lab/Tuthill Lab/Codes/Flight_Arena_Analysis/spiracle_helper_functions.py'\n",
    "\n",
    "# Set the directories\n",
    "input_directory = '/Users/camellyc/Library/CloudStorage/GoogleDrive-yichen@tuthill.casa/.shortcut-targets-by-id/10pxdlRXtzFB-abwDGi0jOGOFFNm3pmFK/Tuthill Lab Shared/Yichen/Spiracle/Spiracle Imaging/EMG_Analysis/241121_spMN2_ChR_EMG_Fly2'\n",
    "output_directory = '/Users/camellyc/Library/CloudStorage/GoogleDrive-yichen@tuthill.casa/.shortcut-targets-by-id/10pxdlRXtzFB-abwDGi0jOGOFFNm3pmFK/Tuthill Lab Shared/Yichen/Spiracle/Spiracle Imaging/EMG_Analysis/241121_spMN2_ChR_EMG_Fly2/output_csv'\n",
    "\n",
    "# Process all files\n",
    "os.makedirs(output_directory, exist_ok=True)\n",
    "mat_files = [f for f in os.listdir(input_directory) if f.endswith('.mat')]\n",
    "print(f\"Found {len(mat_files)} .mat files to process\")\n",
    "\n",
    "for file_name in tqdm(mat_files, desc=\"Processing files\"):\n",
    "    try:\n",
    "        saved_files = process_single_file(file_path, output_directory)\n",
    "        print(f\"\\nProcessed {file_name}:\")\n",
    "        print(f\"Saved {len(saved_files)} bout files\")\n",
    "    except Exception as e:\n",
    "        print(f\"Error processing {file_name}: {e}\")\n",
    "        import traceback\n",
    "        traceback.print_exc()\n",
    "\n",
    "print(\"\\nProcessing complete!\")"
   ]
  },
  {
   "cell_type": "code",
   "execution_count": null,
   "metadata": {},
   "outputs": [],
   "source": [
    "# Use this code to see all the spikes.\n",
    "# Import necessary libraries\n",
    "import numpy as np\n",
    "import matplotlib.pyplot as plt\n",
    "import pandas as pd\n",
    "from tqdm import tqdm\n",
    "\n",
    "# Run your helper functions\n",
    "%run '/Users/camellyc/Library/Mobile Documents/com~apple~CloudDocs/学习/Lab/Tuthill Lab/Codes/Flight_Arena_Analysis/spiracle_helper_functions.py'\n",
    "\n",
    "# File path and global variables\n",
    "file_path = '/Users/camellyc/Library/CloudStorage/GoogleDrive-yichen@tuthill.casa/.shortcut-targets-by-id/10pxdlRXtzFB-abwDGi0jOGOFFNm3pmFK/Tuthill Lab Shared/Yichen/Spiracle/Spiracle Imaging/EMG_Analysis/241121_spMN1_ChR_EMG_Fly1/spMN1_ChR_EMG_VT020126_R20F02_4d_F_Fly1_Trial7_3000ms_2024_1121_125513.mat'\n",
    "sampling_rate = 20000\n",
    "duration = 180\n",
    "\n",
    "# Load data\n",
    "data = load_and_reshape_data(file_path, duration=duration, sampling_rate=sampling_rate)\n",
    "\n",
    "# Extract traces\n",
    "wingbeat_freq, spike_raw, opto_stim = extract_traces(data)\n",
    "\n",
    "# Process spikes\n",
    "time_in_seconds, spike_rate, spike_count, spike_amplitudes = process_spikes(spike_raw, sampling_rate, duration=duration)  # Now unpacking 4 values\n",
    "\n",
    "# Visualize the results\n",
    "visualize_spike_in_time_window(time_in_seconds, spike_raw, spike_count, sampling_rate, duration=duration)"
   ]
  },
  {
   "cell_type": "code",
   "execution_count": null,
   "metadata": {},
   "outputs": [],
   "source": [
    "visualize_spike_in_time_window(time_in_seconds, spike_raw, spike_count, sampling_rate, duration=0.2)"
   ]
  },
  {
   "cell_type": "code",
   "execution_count": null,
   "metadata": {},
   "outputs": [
    {
     "name": "stdout",
     "output_type": "stream",
     "text": [
      "Reshaped data shape (after transpose): (9, 3596000)\n"
     ]
    },
    {
     "name": "stderr",
     "output_type": "stream",
     "text": [
      "/Users/camellyc/Desktop/Codes/spiracle_helper_functions.py:598: UserWarning: Creating legend with loc=\"best\" can be slow with large amounts of data.\n",
      "  plt.ylabel('Raw Spike Amplitude (V)')\n"
     ]
    },
    {
     "data": {
      "image/png": "[encoded data removed]",
      "text/plain": [
       "<Figure size 1500x500 with 1 Axes>"
      ]
     },
     "metadata": {},
     "output_type": "display_data"
    }
   ],
   "source": [
    "# DEFUNCT\n",
    "# Use this code if there're two types of spikes:\n",
    "import numpy as np\n",
    "import matplotlib.pyplot as plt\n",
    "import pandas as pd\n",
    "\n",
    "# Import the helper functions from the other notebook\n",
    "%run '/Users/camellyc/Library/Mobile Documents/com~apple~CloudDocs/学习/Lab/Tuthill Lab/Codes/Flight_Arena_Analysis/spiracle_helper_functions.py'\n",
    "\n",
    "# Updated file path and other parameters\n",
    "file_path = '/Users/camellyc/Library/CloudStorage/GoogleDrive-yichen@tuthill.casa/.shortcut-targets-by-id/10pxdlRXtzFB-abwDGi0jOGOFFNm3pmFK/Tuthill Lab Shared/Yichen/Spiracle/Spiracle Imaging/EMG_Analysis/untitle/spMN2_ChR_EMG_VT029591_R20F02_4d_F_Fly3_Trial5_10000ms_2024_1022_152340'\n",
    "sampling_rate = 20000\n",
    "duration = 180\n",
    "min_threshold = 1  # Example minimum threshold (can be adjusted)\n",
    "max_threshold = 3  # Example maximum threshold (can be adjusted)\n",
    "\n",
    "# Assuming data loading and reshaping functions\n",
    "data = load_and_reshape_data(file_path, duration=duration, sampling_rate=sampling_rate)\n",
    "wingbeat_freq, spike_raw, opto_stim = extract_traces(data)\n",
    "\n",
    "# Process spikes with user-defined absolute threshold\n",
    "time_in_seconds, spike_rate, spike_count = process_spikes_absolute_threshold(spike_raw, sampling_rate, min_threshold, max_threshold, duration=duration)\n",
    "\n",
    "# Plot detected spikes in time window\n",
    "visualize_spike_in_time_window(time_in_seconds, spike_raw, spike_count, sampling_rate, duration=duration)"
   ]
  },
  {
   "cell_type": "code",
   "execution_count": null,
   "metadata": {},
   "outputs": [
    {
     "name": "stdout",
     "output_type": "stream",
     "text": [
      "Reshaped data shape (after transpose): (9, 3596000)\n",
      "Number of blocks detected: 3\n",
      "Lengths of detected blocks (in seconds): [10.0, 9.99785, 9.99785]\n",
      "Results saved to /Users/camellyc/Library/CloudStorage/GoogleDrive-yichen@tuthill.casa/.shortcut-targets-by-id/10pxdlRXtzFB-abwDGi0jOGOFFNm3pmFK/Tuthill Lab Shared/Yichen/Spiracle/Spiracle Imaging/EMG_Analysis/untitle/spMN2_ChR_EMG_VT029591_R20F02_4d_F_Fly3_Trial5_10000ms_2024_1022_152340_results.csv\n",
      "Processed and saved results for spMN2_ChR_EMG_VT029591_R20F02_4d_F_Fly3_Trial5_10000ms_2024_1022_152340\n"
     ]
    }
   ],
   "source": [
    "# DEFUNCT\n",
    "#Use this code if there are more than one type of spikes.\n",
    "import os\n",
    "\n",
    "# Import the helper functions from the other notebook\n",
    "%run '/Users/camellyc/Library/Mobile Documents/com~apple~CloudDocs/学习/Lab/Tuthill Lab/Codes/Flight_Arena_Analysis/spiracle_helper_functions.py'\n",
    "\n",
    "# Directory containing all the data files\n",
    "input_directory = '/Users/camellyc/Library/CloudStorage/GoogleDrive-yichen@tuthill.casa/.shortcut-targets-by-id/10pxdlRXtzFB-abwDGi0jOGOFFNm3pmFK/Tuthill Lab Shared/Yichen/Spiracle/Spiracle Imaging/EMG_Analysis/untitle'\n",
    "output_directory = '/Users/camellyc/Library/CloudStorage/GoogleDrive-yichen@tuthill.casa/.shortcut-targets-by-id/10pxdlRXtzFB-abwDGi0jOGOFFNm3pmFK/Tuthill Lab Shared/Yichen/Spiracle/Spiracle Imaging/EMG_Analysis/untitle'\n",
    "sampling_rate = 20000\n",
    "\n",
    "# Ensure the output directory exists\n",
    "os.makedirs(output_directory, exist_ok=True)\n",
    "\n",
    "# Function to process and save each file with an absolute threshold for spike detection\n",
    "def process_and_save_file_absolute_threshold(file_path, min_threshold, max_threshold, refractory_period_ms=2):\n",
    "    # Load and reshape the data\n",
    "    data = load_and_reshape_data(file_path)\n",
    "\n",
    "    # Extract relevant traces\n",
    "    wingbeat_freq, spike_raw, opto_stim = extract_traces(data)\n",
    "\n",
    "    # Smooth and normalize wingbeat frequency\n",
    "    wingbeat_freq_smoothed = smooth_data(wingbeat_freq) * 100\n",
    "\n",
    "    # Transform opto stimulus data\n",
    "    transformed_opto_stim = transform_opto_stimulus(opto_stim, sampling_rate)\n",
    "\n",
    "    # Process spike data using absolute threshold for spike detection\n",
    "    time_in_seconds, spike_rate, spike_count = process_spikes_absolute_threshold(\n",
    "        spike_raw, \n",
    "        sampling_rate, \n",
    "        min_threshold, \n",
    "        max_threshold, \n",
    "        refractory_period_ms\n",
    "    )\n",
    "\n",
    "    # Determine output file name\n",
    "    output_file_name = os.path.basename(file_path) + '_results.csv'\n",
    "    output_file_path = os.path.join(output_directory, output_file_name)\n",
    "\n",
    "    # Save the results to CSV\n",
    "    save_results_to_csv(time_in_seconds, wingbeat_freq_smoothed, transformed_opto_stim, spike_rate, spike_count, output_file=output_file_path)\n",
    "\n",
    "# Main function to loop over files in the input directory\n",
    "def process_all_files_in_directory_maximum_threshold(input_directory, min_threshold, max_threshold, refractory_period_ms=2):\n",
    "    # Loop through each file in the directory\n",
    "    for file_name in os.listdir(input_directory):\n",
    "        # Skip hidden files (like .DS_Store) or other irrelevant files\n",
    "        if file_name.startswith('.'):\n",
    "            continue\n",
    "        \n",
    "        # Get the full file path\n",
    "        file_path = os.path.join(input_directory, file_name)\n",
    "\n",
    "        # Process the file with user-specified thresholds\n",
    "        process_and_save_file_absolute_threshold(file_path, min_threshold, max_threshold, refractory_period_ms)\n",
    "        print(f\"Processed and saved results for {file_name}\")\n",
    "\n",
    "# Example usage with specified thresholds\n",
    "min_threshold = 1  # Example minimum threshold\n",
    "max_threshold = 3  # Example maximum threshold\n",
    "refractory_period_ms = 2  # Example refractory period in milliseconds\n",
    "\n",
    "# Run the function to process all files\n",
    "process_all_files_in_directory_maximum_threshold(input_directory, min_threshold, max_threshold, refractory_period_ms)"
   ]
  },
  {
   "cell_type": "code",
   "execution_count": null,
   "metadata": {},
   "outputs": [],
   "source": [
    "# DEFUNCT\n",
    "# Import the helper functions from the other notebook\n",
    "%run '/Users/camellyc/Library/Mobile Documents/com~apple~CloudDocs/学习/Lab/Tuthill Lab/Codes/Flight_Arena_Analysis/spiracle_helper_functions.py'\n",
    "\n",
    "# File path and other global variables\n",
    "file_path = '/Users/camellyc/Library/CloudStorage/GoogleDrive-yichen@tuthill.casa/.shortcut-targets-by-id/10pxdlRXtzFB-abwDGi0jOGOFFNm3pmFK/Tuthill Lab Shared/Yichen/Spiracle/Spiracle Imaging/EMG_Analysis/241022_spMN2_ChR_EMG_Fly1/spMN2_ChR_EMG_VT029591_R20F02_4d_F_Fly1_Trial1_3000msx3_2024_1022_131712'\n",
    "sampling_rate = 20000\n",
    "\n",
    "def spikerate_WBF_opto(duration=None):\n",
    "    \"\"\"\n",
    "    Main function to process and analyze data.\n",
    "    \n",
    "    Parameters:\n",
    "    - duration: Duration in seconds to analyze (optional, defaults to the entire file).\n",
    "    \"\"\"\n",
    "    # Load and reshape the data (only for the specified duration)\n",
    "    data = load_and_reshape_data(file_path, duration=duration, sampling_rate=sampling_rate)\n",
    "\n",
    "    # Extract relevant traces\n",
    "    wingbeat_freq, spike_raw, opto_stim = extract_traces(data)\n",
    "\n",
    "    # Smooth and normalize wingbeat frequency (also limit to duration)\n",
    "    wingbeat_freq_smoothed = smooth_data(wingbeat_freq) * 100\n",
    "\n",
    "    # Transform opto stimulus data (also limit to duration)\n",
    "    transformed_opto_stim = transform_opto_stimulus(opto_stim, sampling_rate)\n",
    "\n",
    "    # Process spike data and calculate spike rate (limit to duration)\n",
    "    time_in_seconds, spike_rate, spike_count = process_spikes(spike_raw, sampling_rate, duration=duration)\n",
    "\n",
    "    return time_in_seconds, wingbeat_freq_smoothed, transformed_opto_stim, spike_rate, spike_count\n",
    "\n",
    "# Run the main function for the first 10 seconds\n",
    "time_in_seconds, wingbeat_freq_smoothed, transformed_opto_stim, spike_rate, spike_count = spikerate_WBF_opto(duration=10)\n"
   ]
  }
 ],
 "metadata": {
  "kernelspec": {
   "display_name": "Python 3",
   "language": "python",
   "name": "python3"
  },
  "language_info": {
   "codemirror_mode": {
    "name": "ipython",
    "version": 3
   },
   "file_extension": ".py",
   "mimetype": "text/x-python",
   "name": "python",
   "nbconvert_exporter": "python",
   "pygments_lexer": "ipython3",
   "version": "3.13.0"
  }
 },
 "nbformat": 4,
 "nbformat_minor": 2
}
